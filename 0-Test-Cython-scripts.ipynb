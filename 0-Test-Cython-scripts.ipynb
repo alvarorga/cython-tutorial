{
 "cells": [
  {
   "cell_type": "markdown",
   "metadata": {},
   "source": [
    "# Cython tutorial notebook\n",
    "\n",
    "In this notebook we will test the usage of every Cython script included in the tutorial"
   ]
  },
  {
   "cell_type": "code",
   "execution_count": 1,
   "metadata": {},
   "outputs": [],
   "source": [
    "import numpy as np"
   ]
  },
  {
   "cell_type": "markdown",
   "metadata": {},
   "source": [
    "## 1. Hello, world!\n",
    "\n",
    "You can build and install this simple Cython method with:\n",
    "\n",
    "`$ python setup_hello.pyx build_ext --inplace`\n",
    "\n",
    "or, alternatively, you can execute the Makefile script that builds and installs all scripts\n",
    "\n",
    "`$ make all`"
   ]
  },
  {
   "cell_type": "code",
   "execution_count": 2,
   "metadata": {},
   "outputs": [],
   "source": [
    "from hello_world import print_hello_name"
   ]
  },
  {
   "cell_type": "code",
   "execution_count": 3,
   "metadata": {},
   "outputs": [
    {
     "name": "stdout",
     "output_type": "stream",
     "text": [
      "Hello,  world !\n"
     ]
    }
   ],
   "source": [
    "print_hello_name(\"world\")"
   ]
  }
 ],
 "metadata": {
  "kernelspec": {
   "display_name": "apilocal",
   "language": "python",
   "name": "python3"
  },
  "language_info": {
   "codemirror_mode": {
    "name": "ipython",
    "version": 3
   },
   "file_extension": ".py",
   "mimetype": "text/x-python",
   "name": "python",
   "nbconvert_exporter": "python",
   "pygments_lexer": "ipython3",
   "version": "3.11.9"
  }
 },
 "nbformat": 4,
 "nbformat_minor": 2
}
