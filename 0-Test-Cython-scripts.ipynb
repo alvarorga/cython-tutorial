{
 "cells": [
  {
   "cell_type": "markdown",
   "metadata": {},
   "source": [
    "# Cython tutorial notebook\n",
    "\n",
    "In this notebook we will test the usage of every Cython script included in the tutorial"
   ]
  },
  {
   "cell_type": "code",
   "execution_count": 1,
   "metadata": {},
   "outputs": [],
   "source": [
    "import numpy as np"
   ]
  },
  {
   "cell_type": "markdown",
   "metadata": {},
   "source": [
    "## 1. Hello, world!\n",
    "\n",
    "You can build and install this simple Cython method with:\n",
    "\n",
    "`$ python setup_hello.pyx build_ext --inplace`\n",
    "\n",
    "or, alternatively, you can execute the Makefile script that builds and installs all scripts\n",
    "\n",
    "`$ make all`"
   ]
  },
  {
   "cell_type": "code",
   "execution_count": 2,
   "metadata": {},
   "outputs": [],
   "source": [
    "from hello_world import print_hello_name"
   ]
  },
  {
   "cell_type": "code",
   "execution_count": 3,
   "metadata": {},
   "outputs": [
    {
     "name": "stdout",
     "output_type": "stream",
     "text": [
      "Hello,  world !\n"
     ]
    }
   ],
   "source": [
    "print_hello_name(\"world\")"
   ]
  },
  {
   "cell_type": "markdown",
   "metadata": {},
   "source": [
    "## 2. Array operations\n",
    "\n",
    "You can build and install these Cython methods with:\n",
    "\n",
    "`$ python setup_arrays.pyx build_ext --inplace`"
   ]
  },
  {
   "cell_type": "code",
   "execution_count": 4,
   "metadata": {},
   "outputs": [],
   "source": [
    "import array_operations"
   ]
  },
  {
   "cell_type": "code",
   "execution_count": 5,
   "metadata": {},
   "outputs": [
    {
     "name": "stdout",
     "output_type": "stream",
     "text": [
      "[[3. 3. 3. 3. 3. 3. 3. 3. 3. 3.]\n",
      " [3. 3. 3. 3. 3. 3. 3. 3. 3. 3.]\n",
      " [3. 3. 3. 3. 3. 3. 3. 3. 3. 3.]\n",
      " [3. 3. 3. 3. 3. 3. 3. 3. 3. 3.]\n",
      " [3. 3. 3. 3. 3. 3. 3. 3. 3. 3.]\n",
      " [3. 3. 3. 3. 3. 3. 3. 3. 3. 3.]\n",
      " [3. 3. 3. 3. 3. 3. 3. 3. 3. 3.]\n",
      " [3. 3. 3. 3. 3. 3. 3. 3. 3. 3.]\n",
      " [3. 3. 3. 3. 3. 3. 3. 3. 3. 3.]\n",
      " [3. 3. 3. 3. 3. 3. 3. 3. 3. 3.]]\n"
     ]
    }
   ],
   "source": [
    "def test_sum_of_two_arrays():\n",
    "    n_rows = 10\n",
    "    n_cols = 10\n",
    "    shape = (n_rows, n_cols)\n",
    "    A = np.full(shape, 1.0)\n",
    "    B = np.full(shape, 2.0)\n",
    "    C = array_operations.sum_matrices(A, B)\n",
    "    print(C)\n",
    "    return\n",
    "\n",
    "test_sum_of_two_arrays()"
   ]
  },
  {
   "cell_type": "code",
   "execution_count": 6,
   "metadata": {},
   "outputs": [
    {
     "name": "stdout",
     "output_type": "stream",
     "text": [
      "61.2 ms ± 376 µs per loop (mean ± std. dev. of 7 runs, 10 loops each)\n",
      "605 µs ± 20.4 µs per loop (mean ± std. dev. of 7 runs, 1,000 loops each)\n"
     ]
    }
   ],
   "source": [
    "def time_the_sum_of_two_arrays():\n",
    "    n_rows = 1000\n",
    "    n_cols = 1000\n",
    "    shape = (n_rows, n_cols)\n",
    "    A = np.full(shape, 1.0)\n",
    "    B = np.full(shape, 2.0)\n",
    "    %timeit array_operations.sum_matrices(A, B)\n",
    "    %timeit A + B\n",
    "    return\n",
    "\n",
    "time_the_sum_of_two_arrays()"
   ]
  },
  {
   "cell_type": "markdown",
   "metadata": {},
   "source": [
    "The time result is not very impressive because Numpy is specially tuned to do computations like this."
   ]
  }
 ],
 "metadata": {
  "kernelspec": {
   "display_name": "apilocal",
   "language": "python",
   "name": "python3"
  },
  "language_info": {
   "codemirror_mode": {
    "name": "ipython",
    "version": 3
   },
   "file_extension": ".py",
   "mimetype": "text/x-python",
   "name": "python",
   "nbconvert_exporter": "python",
   "pygments_lexer": "ipython3",
   "version": "3.11.9"
  }
 },
 "nbformat": 4,
 "nbformat_minor": 2
}
